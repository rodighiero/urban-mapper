{
 "cells": [
  {
   "cell_type": "code",
   "execution_count": null,
   "id": "8ac73380",
   "metadata": {},
   "outputs": [
    {
     "name": "stderr",
     "output_type": "stream",
     "text": [
      "/opt/homebrew/Caskroom/miniconda/base/envs/Land/lib/python3.11/site-packages/osmnx/_overpass.py:267: UserWarning: This area is 6,259 times your configured Overpass max query area size. It will automatically be divided up into multiple sub-queries accordingly. This may take a long time.\n",
      "  multi_poly_proj = utils_geo._consolidate_subdivide_geometry(poly_proj)\n"
     ]
    }
   ],
   "source": [
    "import osmnx as ox\n",
    "import matplotlib.pyplot as plt\n",
    "\n",
    "# Define the city and retrieve its driveable road network\n",
    "city = \"Brasília, Brazil\"\n",
    "before_comma = city.split(\",\")[0]\n",
    "G = ox.graph_from_place(city, network_type=\"drive\")\n",
    "\n",
    "# Optional: Project the graph to UTM (for better layout)\n",
    "G_proj = ox.project_graph(G)\n",
    "\n",
    "# Plot and save the map\n",
    "fig, ax = ox.plot_graph(\n",
    "    G_proj,\n",
    "    bgcolor=\"white\",\n",
    "    node_color=\"black\",\n",
    "    node_size=0,\n",
    "    edge_color=\"black\",\n",
    "    edge_linewidth=0.3,\n",
    "    show=False,\n",
    "    save=True,\n",
    "    filepath=before_comma + \".png\",\n",
    "    dpi=50,\n",
    "    format=\"png\",\n",
    ")\n",
    "\n",
    "print(\"Map of Brasília saved as 'brasilia_map.png'\")"
   ]
  }
 ],
 "metadata": {
  "kernelspec": {
   "display_name": "Land",
   "language": "python",
   "name": "python3"
  },
  "language_info": {
   "codemirror_mode": {
    "name": "ipython",
    "version": 3
   },
   "file_extension": ".py",
   "mimetype": "text/x-python",
   "name": "python",
   "nbconvert_exporter": "python",
   "pygments_lexer": "ipython3",
   "version": "3.11.12"
  }
 },
 "nbformat": 4,
 "nbformat_minor": 5
}
