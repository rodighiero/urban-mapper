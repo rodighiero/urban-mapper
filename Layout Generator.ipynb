{
 "cells": [
  {
   "cell_type": "code",
   "execution_count": 1,
   "id": "9fefe222",
   "metadata": {},
   "outputs": [
    {
     "name": "stdout",
     "output_type": "stream",
     "text": [
      "✅ Saved city_grid.jpg and city_grid.pdf\n"
     ]
    }
   ],
   "source": [
    "import os\n",
    "import math\n",
    "from PIL import Image, ImageDraw, ImageFont\n",
    "\n",
    "# Configuration\n",
    "image_folder = \"images\"\n",
    "cities = [\n",
    "    \"Brasília\", \"Palmanova\", \"Versailles\", \"Karlsruhe\", \"Canberra\", \"Washington\",\n",
    "    \"Ciudad_Lineal\", \"Manhattan\", \"Chicago\", \"Greater_London\", \"Amsterdam\", \"Paris\",\n",
    "    \"Fez\", \"Old_Delhi\", \"Athens\"\n",
    "]\n",
    "columns = 5\n",
    "thumb_size = (600, 600)\n",
    "padding = 40\n",
    "font_size = 20\n",
    "font_path = \"arial.ttf\"  # Optional: replace with a full path to a TTF font if needed\n",
    "\n",
    "# Calculate layout\n",
    "rows = math.ceil(len(cities) / columns)\n",
    "composite_width = columns * (thumb_size[0] + padding) + padding\n",
    "composite_height = rows * (thumb_size[1] + padding + font_size + 10) + padding\n",
    "\n",
    "# Create composite canvas\n",
    "composite = Image.new(\"RGB\", (composite_width, composite_height), \"white\")\n",
    "draw = ImageDraw.Draw(composite)\n",
    "\n",
    "# Load font\n",
    "try:\n",
    "    font = ImageFont.truetype(font_path, font_size)\n",
    "except:\n",
    "    font = ImageFont.load_default()\n",
    "\n",
    "# Assemble images with captions\n",
    "for idx, city in enumerate(cities):\n",
    "    img_path = os.path.join(image_folder, f\"{city}.png\")\n",
    "    if not os.path.exists(img_path):\n",
    "        print(f\"Skipping missing file: {img_path}\")\n",
    "        continue\n",
    "\n",
    "    img = Image.open(img_path).convert(\"RGB\")\n",
    "    img.thumbnail(thumb_size)\n",
    "\n",
    "    col = idx % columns\n",
    "    row = idx // columns\n",
    "    x = padding + col * (thumb_size[0] + padding)\n",
    "    y = padding + row * (thumb_size[1] + padding + font_size + 10)\n",
    "\n",
    "    composite.paste(img, (x, y))\n",
    "    caption = city.replace(\"_\", \" \")\n",
    "    text_width = draw.textlength(caption, font=font)\n",
    "    text_x = x + (thumb_size[0] - text_width) // 2\n",
    "    draw.text((text_x, y + thumb_size[1] + 5), caption, fill=\"black\", font=font)\n",
    "\n",
    "# Save outputs\n",
    "composite.save(\"city_grid.jpg\", \"JPEG\")\n",
    "composite.save(\"city_grid.pdf\", \"PDF\")\n",
    "print(\"✅ Saved city_grid.jpg and city_grid.pdf\")"
   ]
  }
 ],
 "metadata": {
  "kernelspec": {
   "display_name": "Land",
   "language": "python",
   "name": "python3"
  },
  "language_info": {
   "codemirror_mode": {
    "name": "ipython",
    "version": 3
   },
   "file_extension": ".py",
   "mimetype": "text/x-python",
   "name": "python",
   "nbconvert_exporter": "python",
   "pygments_lexer": "ipython3",
   "version": "3.11.12"
  }
 },
 "nbformat": 4,
 "nbformat_minor": 5
}
